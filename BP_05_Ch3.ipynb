{
  "nbformat": 4,
  "nbformat_minor": 0,
  "metadata": {
    "colab": {
      "provenance": [],
      "authorship_tag": "ABX9TyNKZHQIZzSQ2NfZmcOVX8Ti",
      "include_colab_link": true
    },
    "kernelspec": {
      "name": "python3",
      "display_name": "Python 3"
    },
    "language_info": {
      "name": "python"
    }
  },
  "cells": [
    {
      "cell_type": "markdown",
      "metadata": {
        "id": "view-in-github",
        "colab_type": "text"
      },
      "source": [
        "<a href=\"https://colab.research.google.com/github/parkdongseop/BP_05_Ch3/blob/main/BP_05_Ch3.ipynb\" target=\"_parent\"><img src=\"https://colab.research.google.com/assets/colab-badge.svg\" alt=\"Open In Colab\"/></a>"
      ]
    },
    {
      "cell_type": "markdown",
      "source": [
        "3장 연습문제 eclass 박동섭 2022년 11월 4일"
      ],
      "metadata": {
        "id": "Pe6GLvQrdnPz"
      }
    },
    {
      "cell_type": "markdown",
      "source": [
        "1 사용자로부터 두 개의 정수를 받아서 정수의 합, 정수의 차, 정수의 곱, 졍수의 펑균, 큰 수, 작은 수를 계산하여 화면에 출럭하는 프로그램을 작성하라. 파이썬이 제공하는 내장 함수 max(x, y), min(x, y)을 사용해보자.\n"
      ],
      "metadata": {
        "id": "50z_ziKe4ytp"
      }
    },
    {
      "cell_type": "code",
      "execution_count": null,
      "metadata": {
        "colab": {
          "base_uri": "https://localhost:8080/"
        },
        "id": "hAoJ23LSadGZ",
        "outputId": "f2b3a437-4d94-44c5-c0af-52bd275582c6"
      },
      "outputs": [
        {
          "output_type": "stream",
          "name": "stdout",
          "text": [
            "x의 값은?: 10\n",
            "y의 값은?: 20\n",
            "두 수의 합은 : 30\n",
            "두 수의 차는 : -10\n",
            "두 수의 곱은 : 200\n",
            "두 수의 평균은 : 15.0\n",
            " 큰 수는? : 20\n",
            " 작은 수는? : 10\n"
          ]
        }
      ],
      "source": [
        "x = int(input(\"x의 값은?: \"))\n",
        "y = int(input(\"y의 값은?: \"))\n",
        "\n",
        "print(\"두 수의 합은 :\" , x + y)\n",
        "print(\"두 수의 차는 :\" , x - y)\n",
        "print(\"두 수의 곱은 :\" , x * y)\n",
        "print(\"두 수의 평균은 :\" ,  (x + y)/2)\n",
        "print(\" 큰 수는? :\" , max(x , y))\n",
        "print(\" 작은 수는? :\" , min(x, y))"
      ]
    },
    {
      "cell_type": "markdown",
      "source": [
        "2 원기둥의 부피를 계산하는 프로그램을 작성해보자. 원기둥의 부피는 다음과 같이 계산한다.\n",
        "v= πr²h\n",
        "v 원기둥의 부피\n"
      ],
      "metadata": {
        "id": "6kY48qnm7t9J"
      }
    },
    {
      "cell_type": "code",
      "source": [
        "r = float(input(\"r값은? :\"))\n",
        "h = float(input(\"h값은? :\"))\n",
        "\n",
        "vol = 3.141592 * r**2 * h\n",
        "print(\"원기둥의 부피:\", vol)"
      ],
      "metadata": {
        "colab": {
          "base_uri": "https://localhost:8080/"
        },
        "id": "tB64L07iciRf",
        "outputId": "155bde45-1b9c-4bc0-fb5c-2a3e5f5544ad"
      },
      "execution_count": null,
      "outputs": [
        {
          "output_type": "stream",
          "name": "stdout",
          "text": [
            "r값은? :10\n",
            "h값은? :100\n",
            "원기둥의 부피: 31415.92\n"
          ]
        }
      ]
    },
    {
      "cell_type": "markdown",
      "source": [
        "3 사용지로부터 정수를 받아서 정수의 자리수의 합을 계산하는 프로그램을 작성하여 보자. 예릍 들어서 사용자가 1234를 입럭하였다면 1+2+3+4를 계산하면 된다. 나머지 연산자와 정수 나눗셈 연산자 //를 적극적으로 사용해보자."
      ],
      "metadata": {
        "id": "O9G_6p4c9iWY"
      }
    },
    {
      "cell_type": "code",
      "source": [
        "number = int(input(\"정수를 입력하시오.: \"))\n",
        "\n",
        "sum = 0 #코딩에서는 초기화가 중요함 initialized 내장함수\n",
        "sum = sum + number % 10\n",
        "number = number // 10\n",
        "\n",
        "sum = sum + number % 10\n",
        "number = number // 10\n",
        "\n",
        "sum = sum + number %10\n",
        "number = number // 10\n",
        "\n",
        "sum = sum + number % 10\n",
        "number = number // 10\n",
        "\n",
        "print(\"자리수의 합은: \", str(sum) ) #반복문 사용은 자제해보자 \n"
      ],
      "metadata": {
        "colab": {
          "base_uri": "https://localhost:8080/"
        },
        "id": "n1bTzk7desSY",
        "outputId": "e4535945-e1db-46ef-d57f-40c3b6832749"
      },
      "execution_count": null,
      "outputs": [
        {
          "output_type": "stream",
          "name": "stdout",
          "text": [
            "정수를 입력하시오.: 1234\n",
            "자리수의 합은:  10\n"
          ]
        }
      ]
    },
    {
      "cell_type": "markdown",
      "source": [
        "4 사용자로부터 두 점의 좌표 (x1, y1)과 (x2, y2)를 입럭받아서 두 점 사이의 거리를 계산하는 프로그랩을 작셩해보자. 스크립트 모드로 작성하라. 거리는 다음 식으로 계산한다.\n",
        "Sqrt((x_2 - x_1)^2 + (y_2 - y_1)^2)"
      ],
      "metadata": {
        "id": "32KLe0Ck-wa7"
      }
    },
    {
      "cell_type": "code",
      "source": [
        "x1 = int(input(\"x1의 값을 입력하시오.: \"))\n",
        "x2 = int(input(\"x2의 값을 입력하시오.: \"))\n",
        "y1 = int(input(\"y1의 값을 입력하시오.: \"))\n",
        "y2 = int(input(\"y2의 값을 입력하시오.: \"))\n",
        "dist = (x2 - x1 **2 + (y2 - y1) **2) ** 0.5\n",
        "print(\"두 점의 사이의 거리는?\", dist, \"입니다.\")"
      ],
      "metadata": {
        "colab": {
          "base_uri": "https://localhost:8080/"
        },
        "id": "Wii37IwLhJUG",
        "outputId": "5dcc4a51-b203-4e36-e7ca-9651e6a03efc"
      },
      "execution_count": null,
      "outputs": [
        {
          "output_type": "stream",
          "name": "stdout",
          "text": [
            "x1의 값을 입력하시오.: 0\n",
            "x2의 값을 입력하시오.: 100\n",
            "y1의 값을 입력하시오.: 0\n",
            "y2의 값을 입력하시오.: 100\n",
            "두 점의 사이의 거리는? 100.4987562112089 입니다.\n"
          ]
        }
      ]
    },
    {
      "cell_type": "markdown",
      "source": [
        "5 1번 문제에서 계산한 거리가 맞는지, 터틀그 \n",
        "래픽으로 확인해보자. 거북이를 왼쪽으로 45 \n",
        "도회전하여 141만큼 젼진시킨다. 다시 거북이 \n",
        "를 (0, 0)으로 이동하고 0도를 가리키게 한 후 \n",
        "에 100만큼 전진하고 왼쪽으로 90도 회전하여 \n",
        "100만큼 전진한다. 화면에 그려진 직선이 일치 \n",
        "하는가?"
      ],
      "metadata": {
        "id": "sBXe-lRgWb0s"
      }
    },
    {
      "cell_type": "code",
      "source": [
        " import turtle\n",
        " t = turtle.Turtle()\n",
        " t.shape(\"turtle\")\n",
        " t.left(45)\n",
        " t.forward(141)\n",
        " t.setheading(0)\n",
        " t.goto(0,0)\n",
        " t.fd(100)\n",
        " t.lt(90)\n",
        " t.fd(100)\n",
        " t._screen.exitonclick()"
      ],
      "metadata": {
        "id": "--Id4nKXlP8r"
      },
      "execution_count": null,
      "outputs": []
    },
    {
      "cell_type": "markdown",
      "source": [
        "6 사용자로부터 두 점을 입력받아서 터틀그래픽을 이용하여 두 점을 연결하는직선을 그린다. 직선의 끝점에 직선의 길이를 계산하여 출력해보자."
      ],
      "metadata": {
        "id": "dhk_IMcyYW-2"
      }
    },
    {
      "cell_type": "code",
      "source": [
        "import turtle\n",
        "t = turtle.Turtle()\n",
        "t.shape(\"turtle\")\n",
        "t.left(45)\n",
        "t.forward(141)\n",
        "t.setheading(0)\n",
        "t.goto(0,0)\n",
        "t.fd(100)\n",
        "t.lt(90)\n",
        "t.fd(100)\n",
        "t.write(\"점의 길이 =\" + str(dist))"
      ],
      "metadata": {
        "id": "OFp-QaEBpSPp"
      },
      "execution_count": null,
      "outputs": []
    },
    {
      "cell_type": "markdown",
      "source": [
        "7 파이썬에서 timeO을호출하면 1970닌 1월 1일 이후홀러은 전체 초가반환된다 이것을\n",
        "적절하게 나누거나 나머지를 구해서 현재 시간의 시와 분을 계산할 수 있올까?\n",
        "import time\n",
        "fseconds = time.timeO 〃 실수로 넘어온다. 예를 들면 1482208666.267769"
      ],
      "metadata": {
        "id": "k8rFLtYz0aHa"
      }
    },
    {
      "cell_type": "code",
      "source": [
        "import time\n",
        "\n",
        "fseconds = time.time() //60\n",
        "minute = fseconds % 60\n",
        "hour = fseconds // 60 %24\n",
        "\n",
        "print(\"현재 시간(영국 그리니치 시각):\", int(hour), \"시\", int(minute), \"분\")"
      ],
      "metadata": {
        "colab": {
          "base_uri": "https://localhost:8080/"
        },
        "id": "pX-OPOt20hI0",
        "outputId": "54c21add-2967-438c-9454-50cfec7bd1f3"
      },
      "execution_count": null,
      "outputs": [
        {
          "output_type": "stream",
          "name": "stdout",
          "text": [
            "현재 시간(영국 그리니치 시각): 12 시 48 분\n"
          ]
        }
      ]
    },
    {
      "cell_type": "markdown",
      "source": [
        "8 움직이는 물체의 운동에너지를 계산해보자. 물체의 에너지를 계산하는 식은 1/2*무게*속도*2이다."
      ],
      "metadata": {
        "id": "fEZDEOTfZOhR"
      }
    },
    {
      "cell_type": "code",
      "source": [
        "weight = int(input(\"물체의 무게를 입력하시오(킬로그램): \"))\n",
        "speed = int(input(\"물체의 속도를 입력하시오(미터/초): \"))\n",
        "\n",
        "print(\"물체는\", 1/2 * weight* speed**2, \"(줄)의 에너지를 가지고 있다.\")"
      ],
      "metadata": {
        "id": "-jCMtDfxZg8N",
        "colab": {
          "base_uri": "https://localhost:8080/"
        },
        "outputId": "9ab1e077-f697-4408-f549-63fe30dbdfec"
      },
      "execution_count": null,
      "outputs": [
        {
          "output_type": "stream",
          "name": "stdout",
          "text": [
            "물체의 무게를 입력하시오(킬로그램): 10\n",
            "물체의 속도를 입력하시오(미터/초): 100\n",
            "물체는 50000.0 (줄)의 에너지를 가지고 있다.\n"
          ]
        }
      ]
    }
  ]
}